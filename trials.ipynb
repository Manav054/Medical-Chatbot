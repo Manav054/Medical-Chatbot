{
 "cells": [
  {
   "cell_type": "code",
   "execution_count": 28,
   "metadata": {},
   "outputs": [],
   "source": [
    "import warnings\n",
    "warnings.filterwarnings(\"ignore\")"
   ]
  },
  {
   "cell_type": "code",
   "execution_count": 1,
   "metadata": {},
   "outputs": [
    {
     "name": "stderr",
     "output_type": "stream",
     "text": [
      "d:\\anaconda3\\envs\\mchatbot\\lib\\site-packages\\pinecone\\data\\index.py:1: TqdmWarning: IProgress not found. Please update jupyter and ipywidgets. See https://ipywidgets.readthedocs.io/en/stable/user_install.html\n",
      "  from tqdm.autonotebook import tqdm\n"
     ]
    }
   ],
   "source": [
    "from pinecone import Pinecone, ServerlessSpec\n",
    "import os\n",
    "from langchain.prompts import PromptTemplate\n",
    "from langchain.chains.combine_documents import create_stuff_documents_chain\n",
    "from langchain.chains import create_retrieval_chain\n",
    "from langchain_core.runnables import RunnablePassthrough\n",
    "from langchain.embeddings import HuggingFaceEmbeddings\n",
    "from langchain_pinecone import PineconeVectorStore\n",
    "from langchain.document_loaders import PyPDFLoader, DirectoryLoader\n",
    "from langchain.text_splitter import RecursiveCharacterTextSplitter\n",
    "from langchain.llms import CTransformers\n",
    "from langchain import hub\n",
    "from langchain_google_genai import ChatGoogleGenerativeAI"
   ]
  },
  {
   "cell_type": "code",
   "execution_count": 14,
   "metadata": {},
   "outputs": [],
   "source": [
    "def load_pdf(data):\n",
    "    loader = DirectoryLoader(data, glob = \"*.pdf\", loader_cls=PyPDFLoader)\n",
    "    documents = loader.load()\n",
    "    return documents"
   ]
  },
  {
   "cell_type": "code",
   "execution_count": 31,
   "metadata": {},
   "outputs": [],
   "source": [
    "extracted_data = load_pdf(\"data/\")"
   ]
  },
  {
   "cell_type": "code",
   "execution_count": 15,
   "metadata": {},
   "outputs": [],
   "source": [
    "def text_splitter(extracted_data):\n",
    "    splitter = RecursiveCharacterTextSplitter(chunk_size = 500, chunk_overlap = 50)\n",
    "    chunks = splitter.split_documents(extracted_data)\n",
    "    return chunks"
   ]
  },
  {
   "cell_type": "code",
   "execution_count": 33,
   "metadata": {},
   "outputs": [
    {
     "name": "stdout",
     "output_type": "stream",
     "text": [
      "7151\n"
     ]
    }
   ],
   "source": [
    "text_chunks = text_splitter(extracted_data)\n",
    "print(len(text_chunks))"
   ]
  },
  {
   "cell_type": "code",
   "execution_count": 16,
   "metadata": {},
   "outputs": [],
   "source": [
    "### download embedding model\n",
    "def download_huggingface_embedding():\n",
    "    embeddings = HuggingFaceEmbeddings(model_name = \"sentence-transformers/all-MiniLM-L6-v2\")\n",
    "    return embeddings"
   ]
  },
  {
   "cell_type": "code",
   "execution_count": 17,
   "metadata": {},
   "outputs": [],
   "source": [
    "embeddings = download_huggingface_embedding()"
   ]
  },
  {
   "cell_type": "code",
   "execution_count": 19,
   "metadata": {},
   "outputs": [],
   "source": [
    "pinecone_api_key = os.environ.get(\"PINECONE_API_KEY\")\n",
    "pc = Pinecone(api_key = pinecone_api_key)"
   ]
  },
  {
   "cell_type": "code",
   "execution_count": 20,
   "metadata": {},
   "outputs": [],
   "source": [
    "import time\n",
    "index_name = \"medical-chatbot\"\n",
    "existing_index = [index_info[\"name\"] for index_info in pc.list_indexes()]\n",
    "\n",
    "if index_name not in existing_index:\n",
    "    pc.create_index(\n",
    "        name=index_name,\n",
    "        dimension=384,\n",
    "        metric=\"cosine\",\n",
    "        spec=ServerlessSpec(cloud=\"aws\", region=\"us-east-1\"),\n",
    "    )\n",
    "    while not pc.describe_index(index_name).status[\"ready\"]:\n",
    "        time.sleep(1)"
   ]
  },
  {
   "cell_type": "code",
   "execution_count": 21,
   "metadata": {},
   "outputs": [],
   "source": [
    "docsearch = PineconeVectorStore(index_name=index_name, embedding=embeddings)"
   ]
  },
  {
   "cell_type": "code",
   "execution_count": 22,
   "metadata": {},
   "outputs": [
    {
     "name": "stdout",
     "output_type": "stream",
     "text": [
      "[Document(page_content='Cat bites are mostly found on the arms and hands.'), Document(page_content='CATS. Although cats are found in nearly a third of\\nU.S. households, cat bites are far less common than dogbites. According to one study, cats inflict perhaps400,000 harmful bites in the United States each year. Thetissue damage caused by cat bites is usually limited, butthey carry a high risk of infection. Whereas the infectionrate for dog bite injuries is 15-20%, the infection rate forcat bites is 30-40%. A typical person who has been bittenis a young girl playing with a pet.'), Document(page_content='Sharp cat teeth typically leave behind a deep puncturewound that can reach muscles, tendons, and bones, whichare vulnerable to infection because of their comparativelypoor blood supply. This is why cat bites are much morelikely to become infected than dog bites. Also, people areless inclined to view cat bites as dangerous requiringimmediate attention; the risk that infection has set in bythe time a medical professional is consulted is thus greater.')]\n"
     ]
    }
   ],
   "source": [
    "docsearch = PineconeVectorStore.from_existing_index(index_name=index_name, embedding=embeddings)\n",
    "query = \"cat\"\n",
    "docs = docsearch.similarity_search(query, k = 3)\n",
    "\n",
    "print(docs)"
   ]
  },
  {
   "cell_type": "code",
   "execution_count": 23,
   "metadata": {},
   "outputs": [],
   "source": [
    "prompt_template = \"\"\"\n",
    "Use the following pieces of information to answer the user's question.\n",
    "If you don't know the answer, just say that you don't know, don't try to make up an answer.\n",
    "\n",
    "context: {context}\n",
    "question: {input}\n",
    "\n",
    "Only return the helpful answer below and nothing else.\n",
    "Helpful answer:\n",
    "\"\"\""
   ]
  },
  {
   "cell_type": "code",
   "execution_count": 24,
   "metadata": {},
   "outputs": [],
   "source": [
    "PROMPT = PromptTemplate.from_template(template=prompt_template)\n"
   ]
  },
  {
   "cell_type": "code",
   "execution_count": 43,
   "metadata": {},
   "outputs": [],
   "source": [
    "llm = ChatGoogleGenerativeAI(model = \"gemini-1.5-flash\", temperature = 0.7, max_output_tokens = 500, safety_settings = None)"
   ]
  },
  {
   "cell_type": "code",
   "execution_count": 44,
   "metadata": {},
   "outputs": [],
   "source": [
    "qa_chain = create_stuff_documents_chain(llm = llm, prompt = PROMPT)\n",
    "rag_chain = create_retrieval_chain(docsearch.as_retriever(search_type = \"similarity\", search_kwards = {'k': 2}), qa_chain)"
   ]
  },
  {
   "cell_type": "code",
   "execution_count": 50,
   "metadata": {},
   "outputs": [
    {
     "data": {
      "text/plain": [
       "{'input': 'Is AIDS an STD?',\n",
       " 'context': [Document(page_content='mitted diseases (STDs). In the United States and\\nEurope, most cases of sexually transmitted HIV infec-tion have resulted from homosexual contact, whereas inAfrica, the disease is spread primarily through sexualintercourse among heterosexuals.\\n• Transmission in pregnancy . High-risk mothers include\\nwomen married to bisexual men or men who have anabnormal blood condition called hemophilia and'),\n",
       "  Document(page_content='presence of opportunistic infections, cancers, or other dis-ease conditions in AIDS patients. Tissue biopsies, samples ofcerebrospinal fluid, and sophisticated imaging techniques,such as magnetic resonance imaging (MRI) and computed\\ntomography scans (CT) are used to diagnose AIDS-related'),\n",
       "  Document(page_content='Risk factors\\nAIDS can be transmitted in several ways. The risk\\nfactors for HIV transmission vary according to category:\\n• Sexual contact. Persons at greatest risk are those who\\ndo not practice safe sex, those who are not monoga-mous, those who participate in anal intercourse, andthose who have sex with a partner with symptoms ofadvanced HIV infection and/or other sexually trans-\\nmitted diseases (STDs). In the United States and'),\n",
       "  Document(page_content='Herpes simplex —A virus that causes sores on the\\nlips (cold sores) or on the genitals (genital herpes).\\nHIV—Acronym for human immunodeficiency\\nvirus, the virus that causes AIDS.\\nParkinsonism —A group of conditions that all have\\nthese typical symptoms in common: tremor, rigidi-ty, slow movement, and poor balance and coordi-nation.\\nPregnancy category —A system of classifying')],\n",
       " 'answer': 'Yes, AIDS is an STD. \\n'}"
      ]
     },
     "execution_count": 50,
     "metadata": {},
     "output_type": "execute_result"
    }
   ],
   "source": [
    "rag_chain.invoke({\"input\":\"Is AIDS an STD?\"})"
   ]
  },
  {
   "cell_type": "code",
   "execution_count": null,
   "metadata": {},
   "outputs": [],
   "source": []
  }
 ],
 "metadata": {
  "kernelspec": {
   "display_name": "mchatbot",
   "language": "python",
   "name": "python3"
  },
  "language_info": {
   "codemirror_mode": {
    "name": "ipython",
    "version": 3
   },
   "file_extension": ".py",
   "mimetype": "text/x-python",
   "name": "python",
   "nbconvert_exporter": "python",
   "pygments_lexer": "ipython3",
   "version": "3.9.19"
  }
 },
 "nbformat": 4,
 "nbformat_minor": 2
}
