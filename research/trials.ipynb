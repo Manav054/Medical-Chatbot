{
 "cells": [
  {
   "cell_type": "code",
   "execution_count": 28,
   "metadata": {},
   "outputs": [],
   "source": [
    "import warnings\n",
    "warnings.filterwarnings(\"ignore\")"
   ]
  },
  {
   "cell_type": "code",
   "execution_count": 1,
   "metadata": {},
   "outputs": [
    {
     "name": "stderr",
     "output_type": "stream",
     "text": [
      "d:\\anaconda3\\envs\\mchatbot\\lib\\site-packages\\pinecone\\data\\index.py:1: TqdmWarning: IProgress not found. Please update jupyter and ipywidgets. See https://ipywidgets.readthedocs.io/en/stable/user_install.html\n",
      "  from tqdm.autonotebook import tqdm\n"
     ]
    }
   ],
   "source": [
    "from pinecone import Pinecone, ServerlessSpec\n",
    "import os\n",
    "from langchain.prompts import PromptTemplate\n",
    "from langchain.chains.combine_documents import create_stuff_documents_chain\n",
    "from langchain.chains import create_retrieval_chain\n",
    "from langchain.embeddings import HuggingFaceEmbeddings\n",
    "from langchain_pinecone import PineconeVectorStore\n",
    "from langchain.document_loaders import PyPDFLoader, DirectoryLoader\n",
    "from langchain.text_splitter import RecursiveCharacterTextSplitter\n",
    "from langchain_google_genai import ChatGoogleGenerativeAI"
   ]
  },
  {
   "cell_type": "code",
   "execution_count": 14,
   "metadata": {},
   "outputs": [],
   "source": [
    "def load_pdf(data):\n",
    "    loader = DirectoryLoader(data, glob = \"*.pdf\", loader_cls=PyPDFLoader)\n",
    "    documents = loader.load()\n",
    "    return documents"
   ]
  },
  {
   "cell_type": "code",
   "execution_count": 31,
   "metadata": {},
   "outputs": [],
   "source": [
    "extracted_data = load_pdf(\"data/\")"
   ]
  },
  {
   "cell_type": "code",
   "execution_count": 15,
   "metadata": {},
   "outputs": [],
   "source": [
    "def text_splitter(extracted_data):\n",
    "    splitter = RecursiveCharacterTextSplitter(chunk_size = 500, chunk_overlap = 50)\n",
    "    chunks = splitter.split_documents(extracted_data)\n",
    "    return chunks"
   ]
  },
  {
   "cell_type": "code",
   "execution_count": 33,
   "metadata": {},
   "outputs": [
    {
     "name": "stdout",
     "output_type": "stream",
     "text": [
      "7151\n"
     ]
    }
   ],
   "source": [
    "text_chunks = text_splitter(extracted_data)\n",
    "print(len(text_chunks))"
   ]
  },
  {
   "cell_type": "code",
   "execution_count": 16,
   "metadata": {},
   "outputs": [],
   "source": [
    "### download embedding model\n",
    "def download_huggingface_embedding():\n",
    "    embeddings = HuggingFaceEmbeddings(model_name = \"sentence-transformers/all-MiniLM-L6-v2\")\n",
    "    return embeddings"
   ]
  },
  {
   "cell_type": "code",
   "execution_count": 17,
   "metadata": {},
   "outputs": [],
   "source": [
    "embeddings = download_huggingface_embedding()"
   ]
  },
  {
   "cell_type": "code",
   "execution_count": 19,
   "metadata": {},
   "outputs": [],
   "source": [
    "pinecone_api_key = os.environ.get(\"PINECONE_API_KEY\")\n",
    "pc = Pinecone(api_key = pinecone_api_key)"
   ]
  },
  {
   "cell_type": "code",
   "execution_count": 20,
   "metadata": {},
   "outputs": [],
   "source": [
    "import time\n",
    "index_name = \"medical-chatbot\"\n",
    "existing_index = [index_info[\"name\"] for index_info in pc.list_indexes()]\n",
    "\n",
    "if index_name not in existing_index:\n",
    "    pc.create_index(\n",
    "        name=index_name,\n",
    "        dimension=384,\n",
    "        metric=\"cosine\",\n",
    "        spec=ServerlessSpec(cloud=\"aws\", region=\"us-east-1\"),\n",
    "    )\n",
    "    while not pc.describe_index(index_name).status[\"ready\"]:\n",
    "        time.sleep(1)"
   ]
  },
  {
   "cell_type": "code",
   "execution_count": null,
   "metadata": {},
   "outputs": [],
   "source": [
    "docsearch = PineconeVectorStore(index_name=index_name, embedding=embeddings)"
   ]
  },
  {
   "cell_type": "code",
   "execution_count": 22,
   "metadata": {},
   "outputs": [
    {
     "name": "stdout",
     "output_type": "stream",
     "text": [
      "[Document(page_content='Cat bites are mostly found on the arms and hands.'), Document(page_content='CATS. Although cats are found in nearly a third of\\nU.S. households, cat bites are far less common than dogbites. According to one study, cats inflict perhaps400,000 harmful bites in the United States each year. Thetissue damage caused by cat bites is usually limited, butthey carry a high risk of infection. Whereas the infectionrate for dog bite injuries is 15-20%, the infection rate forcat bites is 30-40%. A typical person who has been bittenis a young girl playing with a pet.'), Document(page_content='Sharp cat teeth typically leave behind a deep puncturewound that can reach muscles, tendons, and bones, whichare vulnerable to infection because of their comparativelypoor blood supply. This is why cat bites are much morelikely to become infected than dog bites. Also, people areless inclined to view cat bites as dangerous requiringimmediate attention; the risk that infection has set in bythe time a medical professional is consulted is thus greater.')]\n"
     ]
    }
   ],
   "source": [
    "docsearch = PineconeVectorStore.from_existing_index(index_name=index_name, embedding=embeddings)\n",
    "query = \"cat\"\n",
    "docs = docsearch.similarity_search(query, k = 3)\n",
    "\n",
    "print(docs)"
   ]
  },
  {
   "cell_type": "code",
   "execution_count": 23,
   "metadata": {},
   "outputs": [],
   "source": [
    "prompt_template = \"\"\"\n",
    "Use the following pieces of information to answer the user's question.\n",
    "If you don't know the answer, just say that you don't know, don't try to make up an answer.\n",
    "\n",
    "context: {context}\n",
    "question: {input}\n",
    "\n",
    "Only return the helpful answer below and nothing else.\n",
    "Helpful answer:\n",
    "\"\"\""
   ]
  },
  {
   "cell_type": "code",
   "execution_count": 24,
   "metadata": {},
   "outputs": [],
   "source": [
    "PROMPT = PromptTemplate.from_template(template=prompt_template)\n"
   ]
  },
  {
   "cell_type": "code",
   "execution_count": 43,
   "metadata": {},
   "outputs": [],
   "source": [
    "llm = ChatGoogleGenerativeAI(model = \"gemini-1.5-flash\", temperature = 0.7, max_output_tokens = 500, safety_settings = None)"
   ]
  },
  {
   "cell_type": "code",
   "execution_count": 59,
   "metadata": {},
   "outputs": [],
   "source": [
    "qa_chain = create_stuff_documents_chain(llm = llm, prompt = PROMPT)\n",
    "rag_chain = create_retrieval_chain(docsearch.as_retriever(search_type = \"similarity\", search_kwards = {'k': 5}), qa_chain)"
   ]
  },
  {
   "cell_type": "code",
   "execution_count": 62,
   "metadata": {},
   "outputs": [
    {
     "data": {
      "text/plain": [
       "{'input': 'Rabies?',\n",
       " 'context': [Document(page_content='1995): 479.\\nPresutti, R. John. “Bite Wounds: Early Treatment and Prophy-\\nlaxis Against Infectious Complications.” Postgraduate\\nMedicine 101 (April 1997): 243-54.\\nOTHER\\n“Farm Animal Zoonotic and Reportable Diseases.” University\\nof Arizona, University Animal Care. 2000. <http://www.ahsc.arizona.edu/uac/notes/classes/farmzoodisease 00/farmzoo2000.html>.\\n“Rabies Situation and Trends.” World Health Organization.\\n2001. <http://www.who.int/emc/diseases/zoo/ rabies.html>.\\nJulia Barrett'),\n",
       "  Document(page_content='undergoing chemotherapy . Common symptoms include\\nan inflamed sore in the area of the bite or scratch,swollen lymph nodes, fever ,fatigue , and rash.\\nRabies is caused by a virus that is transmitted through'),\n",
       "  Document(page_content='ally recovers fully. There is no known cure for rabies oncesymptoms become evident and death is almost certain.WHO reports that 114 rabies deaths occurred in the Americ-as in 1997, with only four deaths occurring that year in theUnited States, thus emphasizing the importance of goodanimal control practice and postexposure prophylaxis.\\nPrevention\\nPreventing bites obviously prevents subsequent\\ninfections. Children under 12 years of age are at a higherKEY TERMS'),\n",
       "  Document(page_content='ence with animals; therefore, they should be supervisedwith animals and taught to act appropriately aroundthem. An animal that is unusually aggressive or behavingstrangely (e.g. a raccoon that is active during the day-time) should be avoided and reported to the local animalcontrol authorities; it may be infected with the rabiesvirus. All pets should be vaccinated against rabies andwild animals should not be taken in as pets. Peopleshould also avoid trying to break up fights between ani-mals and')],\n",
       " 'answer': \"Rabies is a viral disease that is transmitted through the saliva of infected animals, usually through bites or scratches. It can also be transmitted through contact with an infected animal's saliva on open wounds or mucous membranes. The virus affects the central nervous system and can be fatal if not treated promptly.\\n\"}"
      ]
     },
     "execution_count": 62,
     "metadata": {},
     "output_type": "execute_result"
    }
   ],
   "source": [
    "rag_chain.invoke({\"input\":\"Rabies?\"})"
   ]
  },
  {
   "cell_type": "code",
   "execution_count": null,
   "metadata": {},
   "outputs": [],
   "source": []
  }
 ],
 "metadata": {
  "kernelspec": {
   "display_name": "mchatbot",
   "language": "python",
   "name": "python3"
  },
  "language_info": {
   "codemirror_mode": {
    "name": "ipython",
    "version": 3
   },
   "file_extension": ".py",
   "mimetype": "text/x-python",
   "name": "python",
   "nbconvert_exporter": "python",
   "pygments_lexer": "ipython3",
   "version": "3.9.19"
  }
 },
 "nbformat": 4,
 "nbformat_minor": 2
}
